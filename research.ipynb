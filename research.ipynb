{
 "cells": [
  {
   "cell_type": "code",
   "execution_count": null,
   "metadata": {},
   "outputs": [],
   "source": [
    "import joblib\n",
    "from sklearn.ensemble import RandomForestClassifier\n",
    "from sklearn.model_selection import train_test_split\n",
    "\n",
    "# After your data preparation\n",
    "X_train, X_test, y_train, y_test = train_test_split(X, y, shuffle=True, test_size=0.25, random_state=2019)\n",
    "\n",
    "# Train model\n",
    "random_forest = RandomForestClassifier(n_estimators=500, random_state=2019)\n",
    "random_forest.fit(X_train, y_train)\n",
    "\n",
    "# Save with joblib (recommended for sklearn models)\n",
    "joblib.dump(random_forest, 'model/random_forest_model.joblib')\n",
    "\n",
    "# Verify it loads\n",
    "try:\n",
    "    loaded_model = joblib.load('model/random_forest_model.joblib')\n",
    "    print(\"Model saved and loaded successfully!\")\n",
    "except Exception as e:\n",
    "    print(f\"Error loading model: {str(e)}\")"
   ]
  }
 ],
 "metadata": {
  "kernelspec": {
   "display_name": ".venv",
   "language": "python",
   "name": "python3"
  },
  "language_info": {
   "name": "python",
   "version": "3.11.0"
  }
 },
 "nbformat": 4,
 "nbformat_minor": 2
}
